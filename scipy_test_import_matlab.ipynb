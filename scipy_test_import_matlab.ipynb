{
 "cells": [
  {
   "cell_type": "markdown",
   "id": "4851c9f2",
   "metadata": {},
   "source": [
    "Import the SciPy input output package to get the function that imports the `.mat` file, and import the NumPy package to manipulate the data."
   ]
  },
  {
   "cell_type": "code",
   "execution_count": 1,
   "id": "8e8848e2",
   "metadata": {},
   "outputs": [],
   "source": [
    "import scipy.io as sio\n",
    "import numpy as np"
   ]
  },
  {
   "cell_type": "markdown",
   "id": "90ce2ac8",
   "metadata": {},
   "source": [
    "Import the first MatLab file from the `Robot.zip` file from the [data repository](https://data.mendeley.com/datasets/gpsjkbp6h4/1) for the paper."
   ]
  },
  {
   "cell_type": "code",
   "execution_count": 2,
   "id": "906cdaa7",
   "metadata": {},
   "outputs": [],
   "source": [
    "test = sio.loadmat(\"data_m22_day1.mat\")"
   ]
  },
  {
   "cell_type": "markdown",
   "id": "67f6d2f0",
   "metadata": {},
   "source": [
    "Based on the printout, this is a MatLab 5.0 `.mat` file. The `.loadmat` command loads a dictionary, and the `'dataMouse'` has the data we want. As described from the Mendeley data [page](https://data.mendeley.com/datasets/gpsjkbp6h4/1) there are five arrays:\n",
    "> Each .zip file refers to a different mouse group. Groups are defined accordingly to the paper. A .zip file contains a .mat file (matlab) associated to each mouse and each day of recording. The .mat files are \"structure arrays\" containing the following fields:\n",
    "- force: vector (time x 1), force applied by the mouse to the handle;\n",
    "- status: vector (time x 1), discrete codification of the current phase of the passive extension and active retraction cycle, see Table S1 in the Supporting Information of the paper;\n",
    "- index: vector (pixels x 1), position of pixels in the 200x200 matrix of the recorded calcium;\n",
    "- calcium: matrix (time x pixels), calcium fluorescence;\n",
    "- day: number, relative day from lesion."
   ]
  },
  {
   "cell_type": "code",
   "execution_count": 3,
   "id": "2e04d976",
   "metadata": {},
   "outputs": [
    {
     "name": "stdout",
     "output_type": "stream",
     "text": [
      "{'__header__': b'MATLAB 5.0 MAT-file, Platform: MACI64, Created on: Thu Oct 15 10:48:37 2020', '__version__': '1.0', '__globals__': [], 'dataMouse': array([[(array([[-0.02927687],\n",
      "               [-0.02794236],\n",
      "               [-0.03791983],\n",
      "               ...,\n",
      "               [-0.01703624],\n",
      "               [-0.01767177],\n",
      "               [-0.022116  ]]), array([[0],\n",
      "               [0],\n",
      "               [0],\n",
      "               ...,\n",
      "               [3],\n",
      "               [3],\n",
      "               [3]], dtype=uint8), array([[20868],\n",
      "               [20869],\n",
      "               [20870],\n",
      "               ...,\n",
      "               [27926],\n",
      "               [27927],\n",
      "               [27928]], dtype=uint16), array([[ 5394,  4969,  4707, ..., 14570, 14234, 14019],\n",
      "               [ 5554,  5123,  4820, ..., 14965, 14879, 14484],\n",
      "               [ 5530,  5170,  4878, ..., 14723, 14656, 14287],\n",
      "               ...,\n",
      "               [ 5219,  4859,  4665, ..., 14472, 14265, 13924],\n",
      "               [ 5332,  4982,  4747, ..., 14344, 14128, 13875],\n",
      "               [ 5260,  4929,  4850, ..., 14577, 14157, 13942]], dtype=uint16), array([[-14]], dtype=int16))]],\n",
      "      dtype=[('force', 'O'), ('status', 'O'), ('index', 'O'), ('calcium', 'O'), ('day', 'O')])}\n"
     ]
    }
   ],
   "source": [
    "print(test)"
   ]
  },
  {
   "cell_type": "markdown",
   "id": "a3ea6432",
   "metadata": {},
   "source": [
    "In the following cell, a new variable holds only the data. The labels for the arrays are accessible through `.dtype`."
   ]
  },
  {
   "cell_type": "code",
   "execution_count": 4,
   "id": "1bbd0d4b",
   "metadata": {},
   "outputs": [
    {
     "name": "stdout",
     "output_type": "stream",
     "text": [
      "[[(array([[-0.02927687],\n",
      "         [-0.02794236],\n",
      "         [-0.03791983],\n",
      "         ...,\n",
      "         [-0.01703624],\n",
      "         [-0.01767177],\n",
      "         [-0.022116  ]]), array([[0],\n",
      "         [0],\n",
      "         [0],\n",
      "         ...,\n",
      "         [3],\n",
      "         [3],\n",
      "         [3]], dtype=uint8), array([[20868],\n",
      "         [20869],\n",
      "         [20870],\n",
      "         ...,\n",
      "         [27926],\n",
      "         [27927],\n",
      "         [27928]], dtype=uint16), array([[ 5394,  4969,  4707, ..., 14570, 14234, 14019],\n",
      "         [ 5554,  5123,  4820, ..., 14965, 14879, 14484],\n",
      "         [ 5530,  5170,  4878, ..., 14723, 14656, 14287],\n",
      "         ...,\n",
      "         [ 5219,  4859,  4665, ..., 14472, 14265, 13924],\n",
      "         [ 5332,  4982,  4747, ..., 14344, 14128, 13875],\n",
      "         [ 5260,  4929,  4850, ..., 14577, 14157, 13942]], dtype=uint16), array([[-14]], dtype=int16))]]\n",
      "[('force', 'O'), ('status', 'O'), ('index', 'O'), ('calcium', 'O'), ('day', 'O')]\n"
     ]
    }
   ],
   "source": [
    "test_data = test[\"dataMouse\"]\n",
    "print(test_data)\n",
    "print(test_data.dtype)"
   ]
  },
  {
   "cell_type": "markdown",
   "id": "8e8baeb6",
   "metadata": {},
   "source": [
    "Use the labels from the `dtype` attribute of the data to select it from the overall data structure."
   ]
  },
  {
   "cell_type": "code",
   "execution_count": 5,
   "id": "a67b71fc",
   "metadata": {},
   "outputs": [
    {
     "name": "stdout",
     "output_type": "stream",
     "text": [
      "[[array([[-0.02927687],\n",
      "         [-0.02794236],\n",
      "         [-0.03791983],\n",
      "         ...,\n",
      "         [-0.01703624],\n",
      "         [-0.01767177],\n",
      "         [-0.022116  ]])]]\n",
      "[array([[-0.02927687],\n",
      "        [-0.02794236],\n",
      "        [-0.03791983],\n",
      "        ...,\n",
      "        [-0.01703624],\n",
      "        [-0.01767177],\n",
      "        [-0.022116  ]])]\n",
      "[[-0.02927687]\n",
      " [-0.02794236]\n",
      " [-0.03791983]\n",
      " ...\n",
      " [-0.01703624]\n",
      " [-0.01767177]\n",
      " [-0.022116  ]]\n",
      "[-0.02927687]\n"
     ]
    }
   ],
   "source": [
    "test_data_force = test_data[\"force\"]\n",
    "print(test_data_force)\n",
    "print(test_data_force[0])\n",
    "print(test_data_force[0][0])\n",
    "print(test_data_force[0][0][0])"
   ]
  },
  {
   "cell_type": "markdown",
   "id": "b8b994c9",
   "metadata": {},
   "source": [
    "Flatten the first three arrays so that it's easier to slice them."
   ]
  },
  {
   "cell_type": "code",
   "execution_count": 6,
   "id": "b044804f",
   "metadata": {},
   "outputs": [
    {
     "data": {
      "text/plain": [
       "((10000,), (10000,), (2196,), (10000, 2196), array([[-14]], dtype=int16))"
      ]
     },
     "execution_count": 6,
     "metadata": {},
     "output_type": "execute_result"
    }
   ],
   "source": [
    "force = test['dataMouse'][0][0][0].flatten()\n",
    "status = test['dataMouse'][0][0][1].flatten()\n",
    "index = test['dataMouse'][0][0][2].flatten()\n",
    "calcium = test['dataMouse'][0][0][3] \n",
    "day = test['dataMouse'][0][0][4]\n",
    "\n",
    "force.shape, status.shape, index.shape, calcium.shape, day"
   ]
  },
  {
   "cell_type": "markdown",
   "id": "07a5acc5",
   "metadata": {},
   "source": [
    "#### Interpreting our slices / Slicing tips"
   ]
  },
  {
   "cell_type": "markdown",
   "id": "8802f25a",
   "metadata": {},
   "source": [
    "In the calcium array, each row represents the calcium fluorescence of **each** pixel at **one time point**. This is evident by the shape of array, made out of 2196 data points."
   ]
  },
  {
   "cell_type": "code",
   "execution_count": 7,
   "id": "b1aa0eda",
   "metadata": {
    "scrolled": true
   },
   "outputs": [
    {
     "name": "stdout",
     "output_type": "stream",
     "text": [
      "(2196,)\n"
     ]
    }
   ],
   "source": [
    "print(calcium[0].shape)"
   ]
  },
  {
   "cell_type": "markdown",
   "id": "b6bde551",
   "metadata": {},
   "source": [
    "Slicing like this gives you the calcium fluorescence of all time points in **one pixel**."
   ]
  },
  {
   "cell_type": "code",
   "execution_count": 8,
   "id": "94edb615",
   "metadata": {},
   "outputs": [
    {
     "data": {
      "text/plain": [
       "(10000,)"
      ]
     },
     "execution_count": 8,
     "metadata": {},
     "output_type": "execute_result"
    }
   ],
   "source": [
    "calcium[:, 0].shape"
   ]
  },
  {
   "cell_type": "markdown",
   "id": "aff6ff61",
   "metadata": {},
   "source": [
    "Slicing like this gives you the calcium fluorescence of all pixels in the first 5000 time points."
   ]
  },
  {
   "cell_type": "code",
   "execution_count": 9,
   "id": "b8a685bf",
   "metadata": {},
   "outputs": [
    {
     "data": {
      "text/plain": [
       "(5000, 2196)"
      ]
     },
     "execution_count": 9,
     "metadata": {},
     "output_type": "execute_result"
    }
   ],
   "source": [
    "calcium[: 5000, :].shape"
   ]
  },
  {
   "cell_type": "markdown",
   "id": "17732714",
   "metadata": {},
   "source": [
    "Slicing like this gives you the calcium fluorescence of all pixels at the **last** time point."
   ]
  },
  {
   "cell_type": "code",
   "execution_count": 10,
   "id": "3a03812e",
   "metadata": {},
   "outputs": [
    {
     "data": {
      "text/plain": [
       "(2196,)"
      ]
     },
     "execution_count": 10,
     "metadata": {},
     "output_type": "execute_result"
    }
   ],
   "source": [
    "calcium[-1, :].shape"
   ]
  },
  {
   "cell_type": "markdown",
   "id": "31f0a8f5",
   "metadata": {},
   "source": [
    "Slicing like this gives you the calcium fluorescence of each pixel of every **fifth** time point."
   ]
  },
  {
   "cell_type": "code",
   "execution_count": 11,
   "id": "28b32850",
   "metadata": {},
   "outputs": [
    {
     "data": {
      "text/plain": [
       "(2000, 2196)"
      ]
     },
     "execution_count": 11,
     "metadata": {},
     "output_type": "execute_result"
    }
   ],
   "source": [
    "calcium[::5, :].shape ## [start:end:interval]"
   ]
  },
  {
   "cell_type": "markdown",
   "id": "64caf7fe",
   "metadata": {},
   "source": [
    "Using negative numbers as the interval flips the array around."
   ]
  },
  {
   "cell_type": "code",
   "execution_count": 12,
   "id": "3937c0b6",
   "metadata": {},
   "outputs": [
    {
     "data": {
      "text/plain": [
       "(array([0, 1, 2, 3, 4, 5, 6, 7, 8, 9]),\n",
       " array([0, 2, 4, 6, 8]),\n",
       " array([9, 8, 7, 6, 5, 4, 3, 2, 1, 0]))"
      ]
     },
     "execution_count": 12,
     "metadata": {},
     "output_type": "execute_result"
    }
   ],
   "source": [
    "a = np.arange(10)\n",
    "a, a[::2], a[::-1]"
   ]
  },
  {
   "cell_type": "code",
   "execution_count": null,
   "id": "675dcfd8",
   "metadata": {},
   "outputs": [],
   "source": []
  }
 ],
 "metadata": {
  "kernelspec": {
   "display_name": "Python 3 (ipykernel)",
   "language": "python",
   "name": "python3"
  },
  "language_info": {
   "codemirror_mode": {
    "name": "ipython",
    "version": 3
   },
   "file_extension": ".py",
   "mimetype": "text/x-python",
   "name": "python",
   "nbconvert_exporter": "python",
   "pygments_lexer": "ipython3",
   "version": "3.9.7"
  }
 },
 "nbformat": 4,
 "nbformat_minor": 5
}
